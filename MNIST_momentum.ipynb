{
 "cells": [
  {
   "cell_type": "code",
   "execution_count": 1,
   "metadata": {
    "collapsed": true
   },
   "outputs": [],
   "source": [
    "# You should change `pickle` to `cPickle` if your python complains\n",
    "import numpy as np\n",
    "import pickle as cPickle\n",
    "import os\n",
    "import gzip"
   ]
  },
  {
   "cell_type": "markdown",
   "metadata": {},
   "source": [
    "# Prepare MNIST data\n",
    "- We first define a function for downloading and loading MNIST.\n",
    "- Then, we split up the dataset into a train, validation, and test set."
   ]
  },
  {
   "cell_type": "code",
   "execution_count": 2,
   "metadata": {
    "collapsed": true
   },
   "outputs": [],
   "source": [
    "def mnist(datasets_dir='./data'):\n",
    "    if not os.path.exists(datasets_dir):\n",
    "        os.mkdir(datasets_dir)\n",
    "    data_file = os.path.join(datasets_dir, 'mnist.pkl.gz')\n",
    "    if not os.path.exists(data_file):\n",
    "        print('... downloading MNIST from the web')\n",
    "        try:\n",
    "            import urllib\n",
    "            urllib.urlretrieve('http://google.com')\n",
    "        except AttributeError:\n",
    "            import urllib.request as urllib\n",
    "        url = 'http://www.iro.umontreal.ca/~lisa/deep/data/mnist/mnist.pkl.gz'\n",
    "        urllib.urlretrieve(url, data_file)\n",
    "\n",
    "    print('... loading data')\n",
    "    # Load the dataset\n",
    "    f = gzip.open(data_file, 'rb')\n",
    "    try:\n",
    "        train_set, valid_set, test_set = cPickle.load(f, encoding=\"latin1\")\n",
    "    except TypeError:\n",
    "        train_set, valid_set, test_set = cPickle.load(f)\n",
    "    f.close()\n",
    "\n",
    "    test_x, test_y = test_set\n",
    "    test_x = test_x.astype('float32')\n",
    "    test_x = test_x.astype('float32').reshape(test_x.shape[0], 1, 28, 28)\n",
    "    test_y = test_y.astype('int32')\n",
    "    valid_x, valid_y = valid_set\n",
    "    valid_x = valid_x.astype('float32')\n",
    "    valid_x = valid_x.astype('float32').reshape(valid_x.shape[0], 1, 28, 28)\n",
    "    valid_y = valid_y.astype('int32')\n",
    "    train_x, train_y = train_set\n",
    "    train_x = train_x.astype('float32').reshape(train_x.shape[0], 1, 28, 28)\n",
    "    train_y = train_y.astype('int32')\n",
    "    rval = [(train_x, train_y), (valid_x, valid_y), (test_x, test_y)]\n",
    "    print('... done loading data')\n",
    "    return rval"
   ]
  },
  {
   "cell_type": "markdown",
   "metadata": {},
   "source": [
    "Now download the data and reshape it."
   ]
  },
  {
   "cell_type": "code",
   "execution_count": 3,
   "metadata": {
    "collapsed": false
   },
   "outputs": [
    {
     "name": "stdout",
     "output_type": "stream",
     "text": [
      "... loading data\n",
      "... done loading data\n"
     ]
    }
   ],
   "source": [
    "# load\n",
    "Dtrain, Dval, Dtest = mnist()\n",
    "X_train, y_train = Dtrain\n",
    "X_valid, y_valid = Dval\n",
    "X_test, y_test = Dtest"
   ]
  },
  {
   "cell_type": "markdown",
   "metadata": {},
   "source": [
    "`Dtrain` contains 50k images which are of size 28 x 28 pixels. Hence:"
   ]
  },
  {
   "cell_type": "code",
   "execution_count": 4,
   "metadata": {
    "collapsed": false
   },
   "outputs": [
    {
     "name": "stdout",
     "output_type": "stream",
     "text": [
      "X_train shape: (50000, 1, 28, 28)\n",
      "y_train shape: (50000,)\n"
     ]
    }
   ],
   "source": [
    "print(\"X_train shape: {}\".format(np.shape(X_train)))\n",
    "print(\"y_train shape: {}\".format(np.shape(y_train)))"
   ]
  },
  {
   "cell_type": "markdown",
   "metadata": {},
   "source": [
    "`y_train` will automatically be converted in the `train()` function to one_hot encoding.\n",
    "But we need to reshape `X_train` and `X_valid`, as our `Network` expects flat vectors of size 28*28 as input!"
   ]
  },
  {
   "cell_type": "code",
   "execution_count": 5,
   "metadata": {
    "collapsed": false
   },
   "outputs": [
    {
     "name": "stdout",
     "output_type": "stream",
     "text": [
      "Reshaped X_train size: (50000, 784)\n",
      "Reshaped X_valid size: (10000, 784)\n",
      "Reshaped X_test size: (10000, 784)\n"
     ]
    }
   ],
   "source": [
    "X_train = X_train.reshape(X_train.shape[0], -1)\n",
    "X_valid = X_valid.reshape(X_valid.shape[0], -1)\n",
    "X_test = X_test.reshape(X_test.shape[0], -1)\n",
    "print(\"Reshaped X_train size: {}\".format(X_train.shape))\n",
    "print(\"Reshaped X_valid size: {}\".format(X_valid.shape))\n",
    "print(\"Reshaped X_test size: {}\".format(X_test.shape))"
   ]
  },
  {
   "cell_type": "markdown",
   "metadata": {},
   "source": [
    "# Define a Network\n",
    "We want to design a network that gets less than 3% validation error."
   ]
  },
  {
   "cell_type": "code",
   "execution_count": 6,
   "metadata": {
    "collapsed": false
   },
   "outputs": [],
   "source": [
    "from nnlib.layers import *\n",
    "from nnlib.network import *\n",
    "\n",
    "# Setup a small MLP / Neural Network\n",
    "# we can set the first shape to None here to indicate that\n",
    "# we will input a variable number inputs to the network\n",
    "input_shape = (None, 28*28)\n",
    "layers = [InputLayer(input_shape)]\n",
    "layers.append(FullyConnectedLayer(\n",
    "                layers[-1],\n",
    "                num_units=100,\n",
    "                init_stddev=0.1,\n",
    "                activation_fun=Activation('tanh')\n",
    "))\n",
    "\n",
    "layers.append(FullyConnectedLayer(\n",
    "                layers[-1],\n",
    "                num_units=100,\n",
    "                init_stddev=0.1,\n",
    "                activation_fun=Activation('relu')\n",
    "))\n",
    "layers.append(FullyConnectedLayer(\n",
    "                layers[-1],\n",
    "                num_units=10,\n",
    "                init_stddev=0.1,\n",
    "                # last layer has no nonlinearity \n",
    "                # (softmax will be applied in the output layer)\n",
    "                activation_fun=None \n",
    "))\n",
    "layers.append(SoftmaxOutput(layers[-1]))\n",
    "nn = NeuralNetwork(layers)"
   ]
  },
  {
   "cell_type": "markdown",
   "metadata": {},
   "source": [
    "Now train the network."
   ]
  },
  {
   "cell_type": "code",
   "execution_count": 7,
   "metadata": {
    "collapsed": false
   },
   "outputs": [
    {
     "name": "stdout",
     "output_type": "stream",
     "text": [
      "... starting training\n",
      "epoch 0.0000, loss 0.1737, train error 0.0536, validation error 0.0503\n",
      "epoch 1.0000, loss 0.1011, train error 0.0320, validation error 0.0355\n",
      "epoch 2.0000, loss 0.0727, train error 0.0230, validation error 0.0313\n",
      "epoch 3.0000, loss 0.0551, train error 0.0175, validation error 0.0293\n",
      "epoch 4.0000, loss 0.0494, train error 0.0157, validation error 0.0301\n",
      "epoch 5.0000, loss 0.0436, train error 0.0142, validation error 0.0286\n",
      "epoch 6.0000, loss 0.0380, train error 0.0132, validation error 0.0294\n",
      "epoch 7.0000, loss 0.0282, train error 0.0097, validation error 0.0269\n",
      "epoch 8.0000, loss 0.0190, train error 0.0055, validation error 0.0247\n",
      "epoch 9.0000, loss 0.0140, train error 0.0039, validation error 0.0234\n",
      "epoch 10.0000, loss 0.0113, train error 0.0032, validation error 0.0239\n",
      "epoch 11.0000, loss 0.0086, train error 0.0020, validation error 0.0235\n",
      "epoch 12.0000, loss 0.0067, train error 0.0015, validation error 0.0228\n",
      "epoch 13.0000, loss 0.0049, train error 0.0010, validation error 0.0233\n",
      "epoch 14.0000, loss 0.0033, train error 0.0005, validation error 0.0224\n",
      "epoch 15.0000, loss 0.0027, train error 0.0003, validation error 0.0222\n",
      "Duration: 99.4s\n"
     ]
    }
   ],
   "source": [
    "import time\n",
    "\n",
    "t0 = time.time()\n",
    "nn.train(X_train, y_train, X_valid, y_valid,\n",
    "         learning_rate=0.1, \n",
    "         momentum=0.8,\n",
    "         max_epochs=15,\n",
    "         batch_size=100,\n",
    "         y_one_hot=True)\n",
    "t1 = time.time()\n",
    "\n",
    "print('Duration: {:.1f}s'.format(t1-t0))"
   ]
  },
  {
   "cell_type": "markdown",
   "metadata": {
    "collapsed": true
   },
   "source": [
    "# Evaluate model\n",
    "Now check the accuracy of the model on the test set. Error should be less than 3%."
   ]
  },
  {
   "cell_type": "code",
   "execution_count": 8,
   "metadata": {
    "collapsed": false
   },
   "outputs": [
    {
     "name": "stdout",
     "output_type": "stream",
     "text": [
      "Test error: 2.35%\n"
     ]
    }
   ],
   "source": [
    "test_error = nn.classification_error(X_test, y_test)\n",
    "print('Test error: {:.2f}%'.format(test_error * 100))"
   ]
  },
  {
   "cell_type": "code",
   "execution_count": null,
   "metadata": {
    "collapsed": true
   },
   "outputs": [],
   "source": []
  }
 ],
 "metadata": {
  "kernelspec": {
   "display_name": "Python 3",
   "language": "python",
   "name": "python3"
  },
  "language_info": {
   "codemirror_mode": {
    "name": "ipython",
    "version": 3
   },
   "file_extension": ".py",
   "mimetype": "text/x-python",
   "name": "python",
   "nbconvert_exporter": "python",
   "pygments_lexer": "ipython3",
   "version": "3.5.2"
  }
 },
 "nbformat": 4,
 "nbformat_minor": 1
}
